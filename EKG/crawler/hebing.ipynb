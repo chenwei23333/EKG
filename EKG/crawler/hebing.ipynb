{
 "cells": [
  {
   "cell_type": "code",
   "execution_count": 1,
   "metadata": {},
   "outputs": [],
   "source": [
    "import re\n",
    "import tqdm"
   ]
  },
  {
   "cell_type": "code",
   "execution_count": 159,
   "metadata": {},
   "outputs": [],
   "source": [
    "news_item = \"\"\n",
    "news=[]\n",
    "flag = False"
   ]
  },
  {
   "cell_type": "code",
   "execution_count": 160,
   "metadata": {},
   "outputs": [],
   "source": [
    "def extract_news(line):\n",
    "    global flag,news_item\n",
    "    if len(line)<5 or re.search(r'（文章来源：', line) != None or line=='\\n' or re.search(r'原标题：沪市上市公司公告', line) != None :\n",
    "        flag = flag\n",
    "    else:\n",
    "        if flag == False:\n",
    "            news_item = line\n",
    "            flag = True\n",
    "        else:\n",
    "            if line[0:3]==news_item[0:3]:\n",
    "                news_item = news_item + line\n",
    "                news.append(news_item)\n",
    "                news_item = \"\"\n",
    "                flag = False\n",
    "            else:\n",
    "                news_item = line\n",
    "                flag = False"
   ]
  },
  {
   "cell_type": "code",
   "execution_count": 161,
   "metadata": {},
   "outputs": [
    {
     "name": "stderr",
     "output_type": "stream",
     "text": [
      "100%|██████████| 54055/54055 [00:00<00:00, 285674.27it/s]\n"
     ]
    }
   ],
   "source": [
    "lines = sum([1 for i in open(\"news.txt\", \"r\")])\n",
    "with open('news.txt','r') as f:\n",
    "    for idx,link in tqdm.tqdm(enumerate(f),total=lines):\n",
    "        extract_news(link)"
   ]
  },
  {
   "cell_type": "code",
   "execution_count": 164,
   "metadata": {},
   "outputs": [
    {
     "data": {
      "text/plain": [
       "5713"
      ]
     },
     "execution_count": 164,
     "metadata": {},
     "output_type": "execute_result"
    }
   ],
   "source": [
    "len(news)"
   ]
  },
  {
   "cell_type": "code",
   "execution_count": 140,
   "metadata": {},
   "outputs": [],
   "source": [
    "extract_news('中国通号：上半年净利17.75亿元同比降22%\\n')\n",
    "extract_news('\\n')\n",
    "extract_news('中国通号(688009)8月30日晚间披露半年报，上半年实现营业收入146.21亿元，同比下降28.72%；净利润17.75亿元，同比下降21.74%。基本每股收益0.16元。\\n')"
   ]
  },
  {
   "cell_type": "code",
   "execution_count": 163,
   "metadata": {},
   "outputs": [],
   "source": [
    "with open('news-item.txt','w') as f:\n",
    "    f.write('\\n'.join(news))"
   ]
  },
  {
   "cell_type": "code",
   "execution_count": null,
   "metadata": {},
   "outputs": [],
   "source": []
  }
 ],
 "metadata": {
  "kernelspec": {
   "display_name": "Python 3",
   "language": "python",
   "name": "python3"
  },
  "language_info": {
   "codemirror_mode": {
    "name": "ipython",
    "version": 3
   },
   "file_extension": ".py",
   "mimetype": "text/x-python",
   "name": "python",
   "nbconvert_exporter": "python",
   "pygments_lexer": "ipython3",
   "version": "3.7.3"
  }
 },
 "nbformat": 4,
 "nbformat_minor": 4
}
