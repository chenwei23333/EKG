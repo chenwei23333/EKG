{
 "cells": [
  {
   "cell_type": "code",
   "execution_count": 1,
   "metadata": {},
   "outputs": [],
   "source": [
    "import pandas as pd\n",
    "import requests,json,re\n",
    "from bs4 import BeautifulSoup\n",
    "from selenium import webdriver\n",
    "import re"
   ]
  },
  {
   "cell_type": "code",
   "execution_count": 2,
   "metadata": {},
   "outputs": [],
   "source": [
    "Links = []"
   ]
  },
  {
   "cell_type": "code",
   "execution_count": 4,
   "metadata": {},
   "outputs": [],
   "source": [
    "driver = webdriver.PhantomJS(executable_path = \"/Users/xinxiazhang/OpenSource/phantomjs-2.1.1-macosx/bin/phantomjs\")\n",
    "driver.set_window_size(1366, 768)"
   ]
  },
  {
   "cell_type": "code",
   "execution_count": 5,
   "metadata": {},
   "outputs": [],
   "source": [
    "driver.get('http://so.eastmoney.com/news/s?keyword=%E6%B2%AA%E5%B8%82%E4%B8%8A%E5%B8%82%E5%85%AC%E5%8F%B8%E5%85%AC%E5%91%8A&pageindex=1&searchrange=8192&sortfiled=4')"
   ]
  },
  {
   "cell_type": "code",
   "execution_count": 6,
   "metadata": {},
   "outputs": [
    {
     "name": "stdout",
     "output_type": "stream",
     "text": [
      "<re.Match object; span=(0, 8), match='沪市上市公司公告'>\n"
     ]
    }
   ],
   "source": [
    "news = driver.find_elements_by_class_name('news-item')\n",
    "\n",
    "title = news[5].find_element_by_tag_name('h3').find_element_by_tag_name('a').text\n",
    "print(re.match('沪市上市公司公告', title))"
   ]
  },
  {
   "cell_type": "code",
   "execution_count": 7,
   "metadata": {},
   "outputs": [],
   "source": [
    "def add_links(news):\n",
    "    for item in news:\n",
    "        title = item.find_element_by_tag_name('h3').find_element_by_tag_name('a').text\n",
    "        if re.match('沪市上市公司公告', title) != None:\n",
    "            Links.append(item.find_element_by_class_name('link').text)"
   ]
  },
  {
   "cell_type": "code",
   "execution_count": 8,
   "metadata": {},
   "outputs": [
    {
     "name": "stdout",
     "output_type": "stream",
     "text": [
      "第1页链接爬取完成\n",
      "第2页链接爬取完成\n",
      "第3页链接爬取完成\n",
      "第4页链接爬取完成\n",
      "第5页链接爬取完成\n",
      "第6页链接爬取完成\n",
      "第7页链接爬取完成\n",
      "第8页链接爬取完成\n",
      "第9页链接爬取完成\n",
      "第10页链接爬取完成\n",
      "第11页链接爬取完成\n",
      "第12页链接爬取完成\n",
      "第13页链接爬取完成\n",
      "第14页链接爬取完成\n",
      "第15页链接爬取完成\n",
      "第16页链接爬取完成\n",
      "第17页链接爬取完成\n",
      "第18页链接爬取完成\n",
      "第19页链接爬取完成\n"
     ]
    }
   ],
   "source": [
    "for i in range(1,20):\n",
    "    url = 'http://so.eastmoney.com/news/s?keyword=%E6%B2%AA%E5%B8%82%E4%B8%8A%E5%B8%82%E5%85%AC%E5%8F%B8%E5%85%AC%E5%91%8A&pageindex=' + str(i) + '&searchrange=8192&sortfiled=4'\n",
    "    driver.get(url)\n",
    "    news = driver.find_elements_by_class_name('news-item')\n",
    "    add_links(news)\n",
    "    print('第'+str(i)+'页链接爬取完成')"
   ]
  },
  {
   "cell_type": "code",
   "execution_count": 9,
   "metadata": {},
   "outputs": [
    {
     "data": {
      "text/plain": [
       "'http://stock.eastmoney.com/a/202105311943054764.html'"
      ]
     },
     "execution_count": 9,
     "metadata": {},
     "output_type": "execute_result"
    }
   ],
   "source": [
    "Links[1]"
   ]
  },
  {
   "cell_type": "code",
   "execution_count": 10,
   "metadata": {},
   "outputs": [],
   "source": [
    "with open('links-july.txt','w') as f:\n",
    "    f.write('\\n'.join(Links))"
   ]
  },
  {
   "cell_type": "code",
   "execution_count": null,
   "metadata": {},
   "outputs": [],
   "source": []
  }
 ],
 "metadata": {
  "kernelspec": {
   "display_name": "Python 3",
   "language": "python",
   "name": "python3"
  },
  "language_info": {
   "codemirror_mode": {
    "name": "ipython",
    "version": 3
   },
   "file_extension": ".py",
   "mimetype": "text/x-python",
   "name": "python",
   "nbconvert_exporter": "python",
   "pygments_lexer": "ipython3",
   "version": "3.7.3"
  }
 },
 "nbformat": 4,
 "nbformat_minor": 4
}
